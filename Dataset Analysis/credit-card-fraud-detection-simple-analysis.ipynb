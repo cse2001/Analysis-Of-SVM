{
 "cells": [
  {
   "cell_type": "code",
   "execution_count": 1,
   "id": "75edac53",
   "metadata": {
    "_cell_guid": "b1076dfc-b9ad-4769-8c92-a6c4dae69d19",
    "_uuid": "8f2839f25d086af736a60e9eeb907d3b93b6e0e5",
    "execution": {
     "iopub.execute_input": "2023-11-16T18:35:54.931378Z",
     "iopub.status.busy": "2023-11-16T18:35:54.930876Z",
     "iopub.status.idle": "2023-11-16T18:36:03.107446Z",
     "shell.execute_reply": "2023-11-16T18:36:03.106078Z"
    },
    "papermill": {
     "duration": 8.187246,
     "end_time": "2023-11-16T18:36:03.110113",
     "exception": false,
     "start_time": "2023-11-16T18:35:54.922867",
     "status": "completed"
    },
    "tags": []
   },
   "outputs": [
    {
     "data": {
      "text/html": [
       "<div>\n",
       "<style scoped>\n",
       "    .dataframe tbody tr th:only-of-type {\n",
       "        vertical-align: middle;\n",
       "    }\n",
       "\n",
       "    .dataframe tbody tr th {\n",
       "        vertical-align: top;\n",
       "    }\n",
       "\n",
       "    .dataframe thead th {\n",
       "        text-align: right;\n",
       "    }\n",
       "</style>\n",
       "<table border=\"1\" class=\"dataframe\">\n",
       "  <thead>\n",
       "    <tr style=\"text-align: right;\">\n",
       "      <th></th>\n",
       "      <th>Time</th>\n",
       "      <th>V1</th>\n",
       "      <th>V2</th>\n",
       "      <th>V3</th>\n",
       "      <th>V4</th>\n",
       "      <th>V5</th>\n",
       "      <th>V6</th>\n",
       "      <th>V7</th>\n",
       "      <th>V8</th>\n",
       "      <th>V9</th>\n",
       "      <th>...</th>\n",
       "      <th>V21</th>\n",
       "      <th>V22</th>\n",
       "      <th>V23</th>\n",
       "      <th>V24</th>\n",
       "      <th>V25</th>\n",
       "      <th>V26</th>\n",
       "      <th>V27</th>\n",
       "      <th>V28</th>\n",
       "      <th>Amount</th>\n",
       "      <th>Class</th>\n",
       "    </tr>\n",
       "  </thead>\n",
       "  <tbody>\n",
       "    <tr>\n",
       "      <th>0</th>\n",
       "      <td>0.0</td>\n",
       "      <td>-1.359807</td>\n",
       "      <td>-0.072781</td>\n",
       "      <td>2.536347</td>\n",
       "      <td>1.378155</td>\n",
       "      <td>-0.338321</td>\n",
       "      <td>0.462388</td>\n",
       "      <td>0.239599</td>\n",
       "      <td>0.098698</td>\n",
       "      <td>0.363787</td>\n",
       "      <td>...</td>\n",
       "      <td>-0.018307</td>\n",
       "      <td>0.277838</td>\n",
       "      <td>-0.110474</td>\n",
       "      <td>0.066928</td>\n",
       "      <td>0.128539</td>\n",
       "      <td>-0.189115</td>\n",
       "      <td>0.133558</td>\n",
       "      <td>-0.021053</td>\n",
       "      <td>149.62</td>\n",
       "      <td>0</td>\n",
       "    </tr>\n",
       "    <tr>\n",
       "      <th>1</th>\n",
       "      <td>0.0</td>\n",
       "      <td>1.191857</td>\n",
       "      <td>0.266151</td>\n",
       "      <td>0.166480</td>\n",
       "      <td>0.448154</td>\n",
       "      <td>0.060018</td>\n",
       "      <td>-0.082361</td>\n",
       "      <td>-0.078803</td>\n",
       "      <td>0.085102</td>\n",
       "      <td>-0.255425</td>\n",
       "      <td>...</td>\n",
       "      <td>-0.225775</td>\n",
       "      <td>-0.638672</td>\n",
       "      <td>0.101288</td>\n",
       "      <td>-0.339846</td>\n",
       "      <td>0.167170</td>\n",
       "      <td>0.125895</td>\n",
       "      <td>-0.008983</td>\n",
       "      <td>0.014724</td>\n",
       "      <td>2.69</td>\n",
       "      <td>0</td>\n",
       "    </tr>\n",
       "    <tr>\n",
       "      <th>2</th>\n",
       "      <td>1.0</td>\n",
       "      <td>-1.358354</td>\n",
       "      <td>-1.340163</td>\n",
       "      <td>1.773209</td>\n",
       "      <td>0.379780</td>\n",
       "      <td>-0.503198</td>\n",
       "      <td>1.800499</td>\n",
       "      <td>0.791461</td>\n",
       "      <td>0.247676</td>\n",
       "      <td>-1.514654</td>\n",
       "      <td>...</td>\n",
       "      <td>0.247998</td>\n",
       "      <td>0.771679</td>\n",
       "      <td>0.909412</td>\n",
       "      <td>-0.689281</td>\n",
       "      <td>-0.327642</td>\n",
       "      <td>-0.139097</td>\n",
       "      <td>-0.055353</td>\n",
       "      <td>-0.059752</td>\n",
       "      <td>378.66</td>\n",
       "      <td>0</td>\n",
       "    </tr>\n",
       "    <tr>\n",
       "      <th>3</th>\n",
       "      <td>1.0</td>\n",
       "      <td>-0.966272</td>\n",
       "      <td>-0.185226</td>\n",
       "      <td>1.792993</td>\n",
       "      <td>-0.863291</td>\n",
       "      <td>-0.010309</td>\n",
       "      <td>1.247203</td>\n",
       "      <td>0.237609</td>\n",
       "      <td>0.377436</td>\n",
       "      <td>-1.387024</td>\n",
       "      <td>...</td>\n",
       "      <td>-0.108300</td>\n",
       "      <td>0.005274</td>\n",
       "      <td>-0.190321</td>\n",
       "      <td>-1.175575</td>\n",
       "      <td>0.647376</td>\n",
       "      <td>-0.221929</td>\n",
       "      <td>0.062723</td>\n",
       "      <td>0.061458</td>\n",
       "      <td>123.50</td>\n",
       "      <td>0</td>\n",
       "    </tr>\n",
       "    <tr>\n",
       "      <th>4</th>\n",
       "      <td>2.0</td>\n",
       "      <td>-1.158233</td>\n",
       "      <td>0.877737</td>\n",
       "      <td>1.548718</td>\n",
       "      <td>0.403034</td>\n",
       "      <td>-0.407193</td>\n",
       "      <td>0.095921</td>\n",
       "      <td>0.592941</td>\n",
       "      <td>-0.270533</td>\n",
       "      <td>0.817739</td>\n",
       "      <td>...</td>\n",
       "      <td>-0.009431</td>\n",
       "      <td>0.798278</td>\n",
       "      <td>-0.137458</td>\n",
       "      <td>0.141267</td>\n",
       "      <td>-0.206010</td>\n",
       "      <td>0.502292</td>\n",
       "      <td>0.219422</td>\n",
       "      <td>0.215153</td>\n",
       "      <td>69.99</td>\n",
       "      <td>0</td>\n",
       "    </tr>\n",
       "  </tbody>\n",
       "</table>\n",
       "<p>5 rows × 31 columns</p>\n",
       "</div>"
      ],
      "text/plain": [
       "   Time        V1        V2        V3        V4        V5        V6        V7  \\\n",
       "0   0.0 -1.359807 -0.072781  2.536347  1.378155 -0.338321  0.462388  0.239599   \n",
       "1   0.0  1.191857  0.266151  0.166480  0.448154  0.060018 -0.082361 -0.078803   \n",
       "2   1.0 -1.358354 -1.340163  1.773209  0.379780 -0.503198  1.800499  0.791461   \n",
       "3   1.0 -0.966272 -0.185226  1.792993 -0.863291 -0.010309  1.247203  0.237609   \n",
       "4   2.0 -1.158233  0.877737  1.548718  0.403034 -0.407193  0.095921  0.592941   \n",
       "\n",
       "         V8        V9  ...       V21       V22       V23       V24       V25  \\\n",
       "0  0.098698  0.363787  ... -0.018307  0.277838 -0.110474  0.066928  0.128539   \n",
       "1  0.085102 -0.255425  ... -0.225775 -0.638672  0.101288 -0.339846  0.167170   \n",
       "2  0.247676 -1.514654  ...  0.247998  0.771679  0.909412 -0.689281 -0.327642   \n",
       "3  0.377436 -1.387024  ... -0.108300  0.005274 -0.190321 -1.175575  0.647376   \n",
       "4 -0.270533  0.817739  ... -0.009431  0.798278 -0.137458  0.141267 -0.206010   \n",
       "\n",
       "        V26       V27       V28  Amount  Class  \n",
       "0 -0.189115  0.133558 -0.021053  149.62      0  \n",
       "1  0.125895 -0.008983  0.014724    2.69      0  \n",
       "2 -0.139097 -0.055353 -0.059752  378.66      0  \n",
       "3 -0.221929  0.062723  0.061458  123.50      0  \n",
       "4  0.502292  0.219422  0.215153   69.99      0  \n",
       "\n",
       "[5 rows x 31 columns]"
      ]
     },
     "execution_count": 1,
     "metadata": {},
     "output_type": "execute_result"
    }
   ],
   "source": [
    "import pandas as pd\n",
    "import numpy as np\n",
    "import matplotlib.pyplot as plt\n",
    "import seaborn as sns\n",
    "import math\n",
    "\n",
    "df = pd.read_csv(\"../input/creditcardfraud/creditcard.csv\")\n",
    "df.head()"
   ]
  },
  {
   "cell_type": "code",
   "execution_count": 2,
   "id": "52cf9308",
   "metadata": {
    "execution": {
     "iopub.execute_input": "2023-11-16T18:36:03.122741Z",
     "iopub.status.busy": "2023-11-16T18:36:03.122184Z",
     "iopub.status.idle": "2023-11-16T18:36:03.147326Z",
     "shell.execute_reply": "2023-11-16T18:36:03.145065Z"
    },
    "papermill": {
     "duration": 0.03427,
     "end_time": "2023-11-16T18:36:03.150848",
     "exception": false,
     "start_time": "2023-11-16T18:36:03.116578",
     "status": "completed"
    },
    "tags": []
   },
   "outputs": [
    {
     "name": "stdout",
     "output_type": "stream",
     "text": [
      "Any Null Values :: False\n"
     ]
    }
   ],
   "source": [
    "print(\"Any Null Values ::\",df.isnull().values.any())"
   ]
  },
  {
   "cell_type": "code",
   "execution_count": 3,
   "id": "4e50bb7b",
   "metadata": {
    "execution": {
     "iopub.execute_input": "2023-11-16T18:36:03.161438Z",
     "iopub.status.busy": "2023-11-16T18:36:03.160979Z",
     "iopub.status.idle": "2023-11-16T18:36:03.277538Z",
     "shell.execute_reply": "2023-11-16T18:36:03.275999Z"
    },
    "papermill": {
     "duration": 0.125095,
     "end_time": "2023-11-16T18:36:03.280068",
     "exception": false,
     "start_time": "2023-11-16T18:36:03.154973",
     "status": "completed"
    },
    "tags": []
   },
   "outputs": [
    {
     "name": "stdout",
     "output_type": "stream",
     "text": [
      "Input Data Dimension ::  (284807, 30)\n",
      "Output Label Dimension ::  (284807,)\n"
     ]
    }
   ],
   "source": [
    "columns = df.columns.tolist()\n",
    "\n",
    "columns = [c for c in columns if c not in [\"Class\"]]\n",
    "\n",
    "X = df[columns]\n",
    "Y = df[\"Class\"]\n",
    "\n",
    "print(\"Input Data Dimension :: \",X.shape)\n",
    "print(\"Output Label Dimension :: \",Y.shape)"
   ]
  },
  {
   "cell_type": "code",
   "execution_count": 4,
   "id": "e61a77c1",
   "metadata": {
    "execution": {
     "iopub.execute_input": "2023-11-16T18:36:03.291512Z",
     "iopub.status.busy": "2023-11-16T18:36:03.290684Z",
     "iopub.status.idle": "2023-11-16T18:36:03.422669Z",
     "shell.execute_reply": "2023-11-16T18:36:03.421302Z"
    },
    "papermill": {
     "duration": 0.141379,
     "end_time": "2023-11-16T18:36:03.426002",
     "exception": false,
     "start_time": "2023-11-16T18:36:03.284623",
     "status": "completed"
    },
    "tags": []
   },
   "outputs": [
    {
     "name": "stdout",
     "output_type": "stream",
     "text": [
      "Percentage of Normal Transaction :: 99.8 %\n",
      "Percentage of Fraud Transaction :: 0.173 %\n"
     ]
    }
   ],
   "source": [
    "fraud = df[df['Class']==1]\n",
    "\n",
    "normal = df[df['Class']==0]\n",
    "\n",
    "print(\"Percentage of Normal Transaction ::\",round(normal.shape[0]/df.shape[0],3)*100,\"%\")\n",
    "print(\"Percentage of Fraud Transaction ::\",round(fraud.shape[0]/df.shape[0],5)*100,\"%\")"
   ]
  },
  {
   "cell_type": "markdown",
   "id": "ee8300fe",
   "metadata": {
    "papermill": {
     "duration": 0.004206,
     "end_time": "2023-11-16T18:36:03.434786",
     "exception": false,
     "start_time": "2023-11-16T18:36:03.430580",
     "status": "completed"
    },
    "tags": []
   },
   "source": [
    "Only 492 (or 0.173%) of transaction are fraudulent. Hence the data is highly unbalanced with respect with target variable Class."
   ]
  },
  {
   "cell_type": "code",
   "execution_count": 5,
   "id": "fedb1f98",
   "metadata": {
    "execution": {
     "iopub.execute_input": "2023-11-16T18:36:03.446351Z",
     "iopub.status.busy": "2023-11-16T18:36:03.445756Z",
     "iopub.status.idle": "2023-11-16T18:36:05.577757Z",
     "shell.execute_reply": "2023-11-16T18:36:05.576291Z"
    },
    "papermill": {
     "duration": 2.141739,
     "end_time": "2023-11-16T18:36:05.580915",
     "exception": false,
     "start_time": "2023-11-16T18:36:03.439176",
     "status": "completed"
    },
    "tags": []
   },
   "outputs": [
    {
     "data": {
      "image/png": "[encoded data removed]",
      "text/plain": [
       "<Figure size 640x480 with 1 Axes>"
      ]
     },
     "metadata": {},
     "output_type": "display_data"
    }
   ],
   "source": [
    "time_normal = df[df['Class']==0][\"Time\"]\n",
    "\n",
    "time_fraud = df[df['Class']==1][\"Time\"]\n",
    "\n",
    "sns.set(style=\"whitegrid\")\n",
    "\n",
    "# Plotting density plot for Class 0\n",
    "sns.kdeplot(data=time_normal, label='Normal Transaction', fill=True)\n",
    "\n",
    "# Plotting density plot for Class 1\n",
    "sns.kdeplot(data=time_fraud, label='Fraud Transaction 1', fill=True)\n",
    "\n",
    "# Adding labels and title\n",
    "plt.xlabel('Time')\n",
    "plt.ylabel('Density')\n",
    "plt.title('Density Plot of Time for Class 0 and Class 1')\n",
    "\n",
    "# Display the plot\n",
    "plt.legend()\n",
    "plt.show()"
   ]
  },
  {
   "cell_type": "markdown",
   "id": "185d6675",
   "metadata": {
    "papermill": {
     "duration": 0.005102,
     "end_time": "2023-11-16T18:36:05.591526",
     "exception": false,
     "start_time": "2023-11-16T18:36:05.586424",
     "status": "completed"
    },
    "tags": []
   },
   "source": [
    "Fraudulent transactions have a distribution more even than valid transactions - are equaly distributed in time, including the low real transaction times, during night in Europe timezone."
   ]
  }
 ],
 "metadata": {
  "kaggle": {
   "accelerator": "none",
   "dataSources": [
    {
     "datasetId": 310,
     "sourceId": 23498,
     "sourceType": "datasetVersion"
    }
   ],
   "dockerImageVersionId": 30587,
   "isGpuEnabled": false,
   "isInternetEnabled": true,
   "language": "python",
   "sourceType": "notebook"
  },
  "kernelspec": {
   "display_name": "Python 3",
   "language": "python",
   "name": "python3"
  },
  "language_info": {
   "codemirror_mode": {
    "name": "ipython",
    "version": 3
   },
   "file_extension": ".py",
   "mimetype": "text/x-python",
   "name": "python",
   "nbconvert_exporter": "python",
   "pygments_lexer": "ipython3",
   "version": "3.10.12"
  },
  "papermill": {
   "default_parameters": {},
   "duration": 15.475623,
   "end_time": "2023-11-16T18:36:06.525553",
   "environment_variables": {},
   "exception": null,
   "input_path": "__notebook__.ipynb",
   "output_path": "__notebook__.ipynb",
   "parameters": {},
   "start_time": "2023-11-16T18:35:51.049930",
   "version": "2.4.0"
  }
 },
 "nbformat": 4,
 "nbformat_minor": 5
}
