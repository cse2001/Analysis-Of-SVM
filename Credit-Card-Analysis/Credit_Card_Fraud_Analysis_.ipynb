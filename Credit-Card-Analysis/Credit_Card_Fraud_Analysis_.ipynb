{
  "nbformat": 4,
  "nbformat_minor": 0,
  "metadata": {
    "colab": {
      "provenance": []
    },
    "kernelspec": {
      "name": "python3",
      "display_name": "Python 3"
    },
    "language_info": {
      "name": "python"
    }
  },
  "cells": [
    {
      "cell_type": "code",
      "execution_count": 1,
      "metadata": {
        "id": "HXvNA4hWySRc"
      },
      "outputs": [],
      "source": [
        "import pandas as pd\n",
        "import numpy as np\n",
        "import matplotlib.pyplot as plt\n",
        "import seaborn as sns\n",
        "import math"
      ]
    },
    {
      "cell_type": "code",
      "source": [
        "from sklearn.model_selection import train_test_split\n",
        "from sklearn.preprocessing import StandardScaler\n",
        "from sklearn.svm import SVC\n",
        "from sklearn.metrics import classification_report, confusion_matrix\n",
        "from sklearn.metrics import accuracy_score"
      ],
      "metadata": {
        "id": "nFtSBGEUyU7m"
      },
      "execution_count": 2,
      "outputs": []
    },
    {
      "cell_type": "code",
      "source": [
        "df = pd.read_csv(\"/content/creditcard.csv\")           # Load the dataset to a dataframe"
      ],
      "metadata": {
        "id": "JuBssCApyW3L"
      },
      "execution_count": 6,
      "outputs": []
    },
    {
      "cell_type": "code",
      "source": [
        "df_train = df[:100000]                                            # We cut in two the original dataset\n",
        "df_train_1 = df_train[df_train['Class'] == 1]                     # Separate the fraud data from the dataset\n",
        "df_train_0 = df_train[df_train['Class'] == 0]                     # Separate the non-fraud dataset\n",
        "print('Number of Fraud Transaction = ' + str(len(df_train_1)))    # Print the number of fraud data\n",
        "\n",
        "df_sample=df_train_0.sample(len(df_train_1))                      # Taking the same number of non fraud samples as of fraud samples\n",
        "df_train = pd.concat([df_train_1, df_sample], ignore_index=True)\n",
        "\n",
        "df_shuffled = df_train.sample(frac=1.0, random_state=42)          # shuffle the training data\n",
        "df_train.isnull().values.any()                                    # checkin if there is any NULL value is data\n",
        "df_shuffled.head()"
      ],
      "metadata": {
        "id": "l4GeNIGFzzha"
      },
      "execution_count": null,
      "outputs": []
    },
    {
      "cell_type": "code",
      "source": [
        "# Split the data into features and labels\n",
        "x = df_shuffled.drop('Class', axis=1)                             # Separate the input features i.e. 30 cols\n",
        "y = df_shuffled['Class']                                          # Take the clas labels\n",
        "x.shape"
      ],
      "metadata": {
        "id": "4dfiRtsqyW5f"
      },
      "execution_count": null,
      "outputs": []
    },
    {
      "cell_type": "code",
      "source": [
        "# Split the data into training and testing sets\n",
        "X_train, X_test, y_train, y_test = train_test_split(x, y, test_size=0.2, random_state=42)\n",
        "X_train.shape"
      ],
      "metadata": {
        "id": "SwegSpodzXfj"
      },
      "execution_count": null,
      "outputs": []
    },
    {
      "cell_type": "code",
      "source": [
        "# Standardize the features (important for neural networks)\n",
        "scaler = StandardScaler()\n",
        "X_train = scaler.fit_transform(X_train)\n",
        "X_test = scaler.transform(X_test)"
      ],
      "metadata": {
        "id": "gfCJ0H5OLvO5"
      },
      "execution_count": null,
      "outputs": []
    },
    {
      "cell_type": "code",
      "source": [
        "# fitting the model for the linear kernel\n",
        "\n",
        "acc = []\n",
        "acc_tr = []\n",
        "coefficient = []\n",
        "i=0\n",
        "df = pd.DataFrame(columns = ['c','train_acc','test_acc'])\n",
        "for c in [0.0001,0.001,0.01,0.1,1,10,100,1000,10000]:\n",
        "    svm = SVC(kernel='linear', C=c)\n",
        "    svm.fit(X_train, y_train)                                 # fit the model with train data\n",
        "    coef = svm.coef_                                          # taking coefficient(weights assigned to each feature) from the model\n",
        "\n",
        "    p_tr = svm.predict(X_train)                               # y cap for the trian data\n",
        "    a_tr = accuracy_score(y_train, p_tr)                      # accuracy for the predicted y cap value\n",
        "\n",
        "    pred = svm.predict(X_test)                                # prediction for the test data\n",
        "    a = accuracy_score(y_test, pred)                          # accuracy for the prediction on test data\n",
        "\n",
        "    coefficient.append(coef)                                  # storing coefficient values for plotting\n",
        "    acc_tr.append(a_tr)                                       # storing accuracy of the train data for plotting\n",
        "    acc.append(a)                                             # storing accuracy of the test data for plotting\n",
        "\n",
        "    df.loc[i] = [c,a_tr,a]                                    # storing cost parameter, train accuracy and test accuracy\n",
        "    i=i+1"
      ],
      "metadata": {
        "id": "xYH0QNp_vV6w"
      },
      "execution_count": null,
      "outputs": []
    },
    {
      "cell_type": "code",
      "source": [
        "df"
      ],
      "metadata": {
        "id": "PJXAd3DRw-5o"
      },
      "execution_count": null,
      "outputs": []
    },
    {
      "cell_type": "code",
      "source": [
        "# plotting the testing and train accuracy for the different cose parameter c\n",
        "c = [0.0001,0.001,0.01,0.1,1,10,100,1000,10000]\n",
        "\n",
        "plt.subplots(figsize=(10, 5))\n",
        "plt.semilogx(c, acc,'-gD' ,color='red' , label=\"Testing Accuracy\")\n",
        "plt.semilogx(c, acc_tr,'-gD' , label=\"Training Accuracy\")\n",
        "plt.grid(True)\n",
        "plt.xlabel(\"Cost Parameter C\")\n",
        "plt.ylabel(\"Accuracy\")\n",
        "plt.legend()\n",
        "plt.title('Accuracy versus the Cost Parameter C (log-scale)')\n",
        "plt.show()"
      ],
      "metadata": {
        "id": "nTj4LpH50JT-"
      },
      "execution_count": null,
      "outputs": []
    },
    {
      "cell_type": "code",
      "source": [
        "# fititng the model for the polynomial kernel\n",
        "coefficient = []\n",
        "n_supp = []\n",
        "sup_vec = []\n",
        "i = 0\n",
        "df = pd.DataFrame(columns = ['c','degree','train_acc','test_acc'])\n",
        "for c in [0.0001,0.001,0.01,0.1,1,10,100,1000,10000]:\n",
        "    for degree in [2,3,4,5,10]:\n",
        "        svm = SVC(kernel='poly', C=c, degree=degree)\n",
        "        model = svm.fit(X_train, y_train)\n",
        "        globals()['model%s' % i] = model\n",
        "        d_coef = svm.dual_coef_                                       # represents the coefficients\n",
        "        support = svm.n_support_                                      # returns the no of support vectors for each class\n",
        "        sv = svm.support_                                             # returns the indices of the support vectors\n",
        "\n",
        "        p_tr = svm.predict(X_train)\n",
        "        a_tr = accuracy_score(y_train, p_tr)\n",
        "\n",
        "        pred = svm.predict(X_test)\n",
        "        a = accuracy_score(y_test, pred)\n",
        "\n",
        "        coefficient.append(d_coef)\n",
        "        n_supp.append(support)\n",
        "        sup_vec.append(sv)\n",
        "        df.loc[i] = [c,degree,a_tr,a]\n",
        "        i=i+1"
      ],
      "metadata": {
        "id": "8hqnb7j0bk3W"
      },
      "execution_count": null,
      "outputs": []
    },
    {
      "cell_type": "code",
      "source": [
        "df"
      ],
      "metadata": {
        "id": "AmxVG58JwAbE"
      },
      "execution_count": null,
      "outputs": []
    },
    {
      "cell_type": "code",
      "source": [
        "# similarly fit the model with the RBF kernel\n",
        "\n",
        "coefficient = []\n",
        "n_supp = []\n",
        "sup_vec = []\n",
        "i = 0\n",
        "df = pd.DataFrame(columns = ['c','gamma','train_acc','test_acc'])\n",
        "for c in [0.0001,0.001,0.01,0.1,1,10,100,1000,10000]:\n",
        "    for g in [0.001, 0.01, 0.1, 1, 10, 100]:\n",
        "        svm = SVC(kernel='rbf', C=c, gamma=g)\n",
        "        model = svm.fit(X_train, y_train)\n",
        "        globals()['model%s' % i] = model\n",
        "        d_coef = svm.dual_coef_\n",
        "        support = svm.n_support_\n",
        "        sv = svm.support_\n",
        "\n",
        "        p_tr = svm.predict(X_train)\n",
        "        a_tr = accuracy_score(y_train, p_tr)\n",
        "\n",
        "        pred = svm.predict(X_test)\n",
        "        a = accuracy_score(y_test, pred)\n",
        "\n",
        "        coefficient.append(d_coef)\n",
        "        n_supp.append(support)\n",
        "        sup_vec.append(sv)\n",
        "        df.loc[i] = [c,g,a_tr,a]\n",
        "        i=i+1"
      ],
      "metadata": {
        "id": "0yRpCpR0wGSk"
      },
      "execution_count": null,
      "outputs": []
    },
    {
      "cell_type": "code",
      "source": [
        "df"
      ],
      "metadata": {
        "id": "HMw3om7DwdZj"
      },
      "execution_count": null,
      "outputs": []
    },
    {
      "cell_type": "code",
      "source": [
        "pd.DataFrame(coefficient[15]) # dual_coef_"
      ],
      "metadata": {
        "id": "NDHzH2yMwegC"
      },
      "execution_count": null,
      "outputs": []
    },
    {
      "cell_type": "code",
      "source": [
        "pd.DataFrame(coefficient[15]) # dual_coef_"
      ],
      "metadata": {
        "id": "dGjCno5m23xd"
      },
      "execution_count": null,
      "outputs": []
    },
    {
      "cell_type": "markdown",
      "source": [
        "The support vectors identified by the SVC each belong to a certain class (0 and\n",
        "1). In the dual coefficients, they are ordered according to the class they belong to. There are as many rows in each group as there are support vectors i.e. 129."
      ],
      "metadata": {
        "id": "hUgj-LtC3Ai8"
      }
    },
    {
      "cell_type": "code",
      "source": [
        "pd.DataFrame(n_supp[15]) # n_support_"
      ],
      "metadata": {
        "colab": {
          "base_uri": "https://localhost:8080/",
          "height": 112
        },
        "id": "a94dTIJY28JA",
        "outputId": "95fdfbd3-9890-46ed-cb89-4ee476889895"
      },
      "execution_count": null,
      "outputs": [
        {
          "output_type": "execute_result",
          "data": {
            "text/plain": [
              "    0\n",
              "0  68\n",
              "1  61"
            ],
            "text/html": [
              "\n",
              "  <div id=\"df-7d5394a8-6d5f-4672-8340-1a6ab8b0b47e\" class=\"colab-df-container\">\n",
              "    <div>\n",
              "<style scoped>\n",
              "    .dataframe tbody tr th:only-of-type {\n",
              "        vertical-align: middle;\n",
              "    }\n",
              "\n",
              "    .dataframe tbody tr th {\n",
              "        vertical-align: top;\n",
              "    }\n",
              "\n",
              "    .dataframe thead th {\n",
              "        text-align: right;\n",
              "    }\n",
              "</style>\n",
              "<table border=\"1\" class=\"dataframe\">\n",
              "  <thead>\n",
              "    <tr style=\"text-align: right;\">\n",
              "      <th></th>\n",
              "      <th>0</th>\n",
              "    </tr>\n",
              "  </thead>\n",
              "  <tbody>\n",
              "    <tr>\n",
              "      <th>0</th>\n",
              "      <td>68</td>\n",
              "    </tr>\n",
              "    <tr>\n",
              "      <th>1</th>\n",
              "      <td>61</td>\n",
              "    </tr>\n",
              "  </tbody>\n",
              "</table>\n",
              "</div>\n",
              "    <div class=\"colab-df-buttons\">\n",
              "\n",
              "  <div class=\"colab-df-container\">\n",
              "    <button class=\"colab-df-convert\" onclick=\"convertToInteractive('df-7d5394a8-6d5f-4672-8340-1a6ab8b0b47e')\"\n",
              "            title=\"Convert this dataframe to an interactive table.\"\n",
              "            style=\"display:none;\">\n",
              "\n",
              "  <svg xmlns=\"http://www.w3.org/2000/svg\" height=\"24px\" viewBox=\"0 -960 960 960\">\n",
              "    <path d=\"M120-120v-720h720v720H120Zm60-500h600v-160H180v160Zm220 220h160v-160H400v160Zm0 220h160v-160H400v160ZM180-400h160v-160H180v160Zm440 0h160v-160H620v160ZM180-180h160v-160H180v160Zm440 0h160v-160H620v160Z\"/>\n",
              "  </svg>\n",
              "    </button>\n",
              "\n",
              "  <style>\n",
              "    .colab-df-container {\n",
              "      display:flex;\n",
              "      gap: 12px;\n",
              "    }\n",
              "\n",
              "    .colab-df-convert {\n",
              "      background-color: #E8F0FE;\n",
              "      border: none;\n",
              "      border-radius: 50%;\n",
              "      cursor: pointer;\n",
              "      display: none;\n",
              "      fill: #1967D2;\n",
              "      height: 32px;\n",
              "      padding: 0 0 0 0;\n",
              "      width: 32px;\n",
              "    }\n",
              "\n",
              "    .colab-df-convert:hover {\n",
              "      background-color: #E2EBFA;\n",
              "      box-shadow: 0px 1px 2px rgba(60, 64, 67, 0.3), 0px 1px 3px 1px rgba(60, 64, 67, 0.15);\n",
              "      fill: #174EA6;\n",
              "    }\n",
              "\n",
              "    .colab-df-buttons div {\n",
              "      margin-bottom: 4px;\n",
              "    }\n",
              "\n",
              "    [theme=dark] .colab-df-convert {\n",
              "      background-color: #3B4455;\n",
              "      fill: #D2E3FC;\n",
              "    }\n",
              "\n",
              "    [theme=dark] .colab-df-convert:hover {\n",
              "      background-color: #434B5C;\n",
              "      box-shadow: 0px 1px 3px 1px rgba(0, 0, 0, 0.15);\n",
              "      filter: drop-shadow(0px 1px 2px rgba(0, 0, 0, 0.3));\n",
              "      fill: #FFFFFF;\n",
              "    }\n",
              "  </style>\n",
              "\n",
              "    <script>\n",
              "      const buttonEl =\n",
              "        document.querySelector('#df-7d5394a8-6d5f-4672-8340-1a6ab8b0b47e button.colab-df-convert');\n",
              "      buttonEl.style.display =\n",
              "        google.colab.kernel.accessAllowed ? 'block' : 'none';\n",
              "\n",
              "      async function convertToInteractive(key) {\n",
              "        const element = document.querySelector('#df-7d5394a8-6d5f-4672-8340-1a6ab8b0b47e');\n",
              "        const dataTable =\n",
              "          await google.colab.kernel.invokeFunction('convertToInteractive',\n",
              "                                                    [key], {});\n",
              "        if (!dataTable) return;\n",
              "\n",
              "        const docLinkHtml = 'Like what you see? Visit the ' +\n",
              "          '<a target=\"_blank\" href=https://colab.research.google.com/notebooks/data_table.ipynb>data table notebook</a>'\n",
              "          + ' to learn more about interactive tables.';\n",
              "        element.innerHTML = '';\n",
              "        dataTable['output_type'] = 'display_data';\n",
              "        await google.colab.output.renderOutput(dataTable, element);\n",
              "        const docLink = document.createElement('div');\n",
              "        docLink.innerHTML = docLinkHtml;\n",
              "        element.appendChild(docLink);\n",
              "      }\n",
              "    </script>\n",
              "  </div>\n",
              "\n",
              "\n",
              "<div id=\"df-54d1dcaa-1abc-4508-9f42-2c9b0bf91290\">\n",
              "  <button class=\"colab-df-quickchart\" onclick=\"quickchart('df-54d1dcaa-1abc-4508-9f42-2c9b0bf91290')\"\n",
              "            title=\"Suggest charts\"\n",
              "            style=\"display:none;\">\n",
              "\n",
              "<svg xmlns=\"http://www.w3.org/2000/svg\" height=\"24px\"viewBox=\"0 0 24 24\"\n",
              "     width=\"24px\">\n",
              "    <g>\n",
              "        <path d=\"M19 3H5c-1.1 0-2 .9-2 2v14c0 1.1.9 2 2 2h14c1.1 0 2-.9 2-2V5c0-1.1-.9-2-2-2zM9 17H7v-7h2v7zm4 0h-2V7h2v10zm4 0h-2v-4h2v4z\"/>\n",
              "    </g>\n",
              "</svg>\n",
              "  </button>\n",
              "\n",
              "<style>\n",
              "  .colab-df-quickchart {\n",
              "      --bg-color: #E8F0FE;\n",
              "      --fill-color: #1967D2;\n",
              "      --hover-bg-color: #E2EBFA;\n",
              "      --hover-fill-color: #174EA6;\n",
              "      --disabled-fill-color: #AAA;\n",
              "      --disabled-bg-color: #DDD;\n",
              "  }\n",
              "\n",
              "  [theme=dark] .colab-df-quickchart {\n",
              "      --bg-color: #3B4455;\n",
              "      --fill-color: #D2E3FC;\n",
              "      --hover-bg-color: #434B5C;\n",
              "      --hover-fill-color: #FFFFFF;\n",
              "      --disabled-bg-color: #3B4455;\n",
              "      --disabled-fill-color: #666;\n",
              "  }\n",
              "\n",
              "  .colab-df-quickchart {\n",
              "    background-color: var(--bg-color);\n",
              "    border: none;\n",
              "    border-radius: 50%;\n",
              "    cursor: pointer;\n",
              "    display: none;\n",
              "    fill: var(--fill-color);\n",
              "    height: 32px;\n",
              "    padding: 0;\n",
              "    width: 32px;\n",
              "  }\n",
              "\n",
              "  .colab-df-quickchart:hover {\n",
              "    background-color: var(--hover-bg-color);\n",
              "    box-shadow: 0 1px 2px rgba(60, 64, 67, 0.3), 0 1px 3px 1px rgba(60, 64, 67, 0.15);\n",
              "    fill: var(--button-hover-fill-color);\n",
              "  }\n",
              "\n",
              "  .colab-df-quickchart-complete:disabled,\n",
              "  .colab-df-quickchart-complete:disabled:hover {\n",
              "    background-color: var(--disabled-bg-color);\n",
              "    fill: var(--disabled-fill-color);\n",
              "    box-shadow: none;\n",
              "  }\n",
              "\n",
              "  .colab-df-spinner {\n",
              "    border: 2px solid var(--fill-color);\n",
              "    border-color: transparent;\n",
              "    border-bottom-color: var(--fill-color);\n",
              "    animation:\n",
              "      spin 1s steps(1) infinite;\n",
              "  }\n",
              "\n",
              "  @keyframes spin {\n",
              "    0% {\n",
              "      border-color: transparent;\n",
              "      border-bottom-color: var(--fill-color);\n",
              "      border-left-color: var(--fill-color);\n",
              "    }\n",
              "    20% {\n",
              "      border-color: transparent;\n",
              "      border-left-color: var(--fill-color);\n",
              "      border-top-color: var(--fill-color);\n",
              "    }\n",
              "    30% {\n",
              "      border-color: transparent;\n",
              "      border-left-color: var(--fill-color);\n",
              "      border-top-color: var(--fill-color);\n",
              "      border-right-color: var(--fill-color);\n",
              "    }\n",
              "    40% {\n",
              "      border-color: transparent;\n",
              "      border-right-color: var(--fill-color);\n",
              "      border-top-color: var(--fill-color);\n",
              "    }\n",
              "    60% {\n",
              "      border-color: transparent;\n",
              "      border-right-color: var(--fill-color);\n",
              "    }\n",
              "    80% {\n",
              "      border-color: transparent;\n",
              "      border-right-color: var(--fill-color);\n",
              "      border-bottom-color: var(--fill-color);\n",
              "    }\n",
              "    90% {\n",
              "      border-color: transparent;\n",
              "      border-bottom-color: var(--fill-color);\n",
              "    }\n",
              "  }\n",
              "</style>\n",
              "\n",
              "  <script>\n",
              "    async function quickchart(key) {\n",
              "      const quickchartButtonEl =\n",
              "        document.querySelector('#' + key + ' button');\n",
              "      quickchartButtonEl.disabled = true;  // To prevent multiple clicks.\n",
              "      quickchartButtonEl.classList.add('colab-df-spinner');\n",
              "      try {\n",
              "        const charts = await google.colab.kernel.invokeFunction(\n",
              "            'suggestCharts', [key], {});\n",
              "      } catch (error) {\n",
              "        console.error('Error during call to suggestCharts:', error);\n",
              "      }\n",
              "      quickchartButtonEl.classList.remove('colab-df-spinner');\n",
              "      quickchartButtonEl.classList.add('colab-df-quickchart-complete');\n",
              "    }\n",
              "    (() => {\n",
              "      let quickchartButtonEl =\n",
              "        document.querySelector('#df-54d1dcaa-1abc-4508-9f42-2c9b0bf91290 button');\n",
              "      quickchartButtonEl.style.display =\n",
              "        google.colab.kernel.accessAllowed ? 'block' : 'none';\n",
              "    })();\n",
              "  </script>\n",
              "</div>\n",
              "    </div>\n",
              "  </div>\n"
            ]
          },
          "metadata": {},
          "execution_count": 34
        }
      ]
    },
    {
      "cell_type": "markdown",
      "source": [
        "\"nsupport\" divides the number of support vestors by the class. So we can say that when class 0 has 68 support vectors, it means 68 are the positive support vectors and rest all are the negative support vectors for 0-versus-rest classifier."
      ],
      "metadata": {
        "id": "0Y8EaAZa40ko"
      }
    }
  ]
}